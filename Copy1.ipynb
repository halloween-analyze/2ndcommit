{
 "cells": [
  {
   "cell_type": "code",
   "execution_count": 1,
   "metadata": {},
   "outputs": [],
   "source": [
    "import pandas as pd\n",
    "import matplotlib.pyplot as plt\n",
    "import yfinance as yf"
   ]
  },
  {
   "cell_type": "code",
   "execution_count": 2,
   "metadata": {},
   "outputs": [],
   "source": [
    "%matplotlib inline"
   ]
  },
  {
   "cell_type": "code",
   "execution_count": 3,
   "metadata": {},
   "outputs": [],
   "source": [
    "aapl = yf.Ticker('AAPL')"
   ]
  },
  {
   "cell_type": "code",
   "execution_count": 27,
   "metadata": {},
   "outputs": [
    {
     "data": {
      "text/html": [
       "<div>\n",
       "<style scoped>\n",
       "    .dataframe tbody tr th:only-of-type {\n",
       "        vertical-align: middle;\n",
       "    }\n",
       "\n",
       "    .dataframe tbody tr th {\n",
       "        vertical-align: top;\n",
       "    }\n",
       "\n",
       "    .dataframe thead th {\n",
       "        text-align: right;\n",
       "    }\n",
       "</style>\n",
       "<table border=\"1\" class=\"dataframe\">\n",
       "  <thead>\n",
       "    <tr style=\"text-align: right;\">\n",
       "      <th></th>\n",
       "      <th>Open</th>\n",
       "      <th>High</th>\n",
       "      <th>Low</th>\n",
       "      <th>Close</th>\n",
       "      <th>Volume</th>\n",
       "      <th>Dividends</th>\n",
       "      <th>Stock Splits</th>\n",
       "    </tr>\n",
       "    <tr>\n",
       "      <th>Date</th>\n",
       "      <th></th>\n",
       "      <th></th>\n",
       "      <th></th>\n",
       "      <th></th>\n",
       "      <th></th>\n",
       "      <th></th>\n",
       "      <th></th>\n",
       "    </tr>\n",
       "  </thead>\n",
       "  <tbody>\n",
       "    <tr>\n",
       "      <th>2021-10-25</th>\n",
       "      <td>148.463321</td>\n",
       "      <td>149.152318</td>\n",
       "      <td>147.404868</td>\n",
       "      <td>148.423386</td>\n",
       "      <td>50720600</td>\n",
       "      <td>0.0</td>\n",
       "      <td>0</td>\n",
       "    </tr>\n",
       "    <tr>\n",
       "      <th>2021-10-26</th>\n",
       "      <td>149.112382</td>\n",
       "      <td>150.620176</td>\n",
       "      <td>148.792841</td>\n",
       "      <td>149.102402</td>\n",
       "      <td>60893400</td>\n",
       "      <td>0.0</td>\n",
       "      <td>0</td>\n",
       "    </tr>\n",
       "    <tr>\n",
       "      <th>2021-10-27</th>\n",
       "      <td>149.142338</td>\n",
       "      <td>149.511794</td>\n",
       "      <td>148.273611</td>\n",
       "      <td>148.633087</td>\n",
       "      <td>56094900</td>\n",
       "      <td>0.0</td>\n",
       "      <td>0</td>\n",
       "    </tr>\n",
       "  </tbody>\n",
       "</table>\n",
       "</div>"
      ],
      "text/plain": [
       "                  Open        High         Low       Close    Volume  \\\n",
       "Date                                                                   \n",
       "2021-10-25  148.463321  149.152318  147.404868  148.423386  50720600   \n",
       "2021-10-26  149.112382  150.620176  148.792841  149.102402  60893400   \n",
       "2021-10-27  149.142338  149.511794  148.273611  148.633087  56094900   \n",
       "\n",
       "            Dividends  Stock Splits  \n",
       "Date                                 \n",
       "2021-10-25        0.0             0  \n",
       "2021-10-26        0.0             0  \n",
       "2021-10-27        0.0             0  "
      ]
     },
     "execution_count": 27,
     "metadata": {},
     "output_type": "execute_result"
    }
   ],
   "source": [
    "days = 20\n",
    "hist = aapl.history(period=f'{days}d')\n",
    "hist.head(3)"
   ]
  },
  {
   "cell_type": "code",
   "execution_count": 28,
   "metadata": {},
   "outputs": [
    {
     "data": {
      "text/plain": [
       "DatetimeIndex(['2021-10-25', '2021-10-26', '2021-10-27', '2021-10-28',\n",
       "               '2021-10-29', '2021-11-01', '2021-11-02', '2021-11-03',\n",
       "               '2021-11-04', '2021-11-05', '2021-11-08', '2021-11-09',\n",
       "               '2021-11-10', '2021-11-11', '2021-11-12', '2021-11-15',\n",
       "               '2021-11-16', '2021-11-17', '2021-11-18', '2021-11-19'],\n",
       "              dtype='datetime64[ns]', name='Date', freq=None)"
      ]
     },
     "execution_count": 28,
     "metadata": {},
     "output_type": "execute_result"
    }
   ],
   "source": [
    "hist.index"
   ]
  },
  {
   "cell_type": "code",
   "execution_count": 29,
   "metadata": {},
   "outputs": [],
   "source": [
    "#インデックスのフォーマットの変更\n",
    "hist.index = hist.index.strftime('%d %B %Y')"
   ]
  },
  {
   "cell_type": "code",
   "execution_count": 30,
   "metadata": {},
   "outputs": [],
   "source": [
    "hist = hist[['Close']]\n",
    "hist.columns = ['apple']"
   ]
  },
  {
   "cell_type": "code",
   "execution_count": 31,
   "metadata": {},
   "outputs": [
    {
     "data": {
      "text/html": [
       "<div>\n",
       "<style scoped>\n",
       "    .dataframe tbody tr th:only-of-type {\n",
       "        vertical-align: middle;\n",
       "    }\n",
       "\n",
       "    .dataframe tbody tr th {\n",
       "        vertical-align: top;\n",
       "    }\n",
       "\n",
       "    .dataframe thead th {\n",
       "        text-align: right;\n",
       "    }\n",
       "</style>\n",
       "<table border=\"1\" class=\"dataframe\">\n",
       "  <thead>\n",
       "    <tr style=\"text-align: right;\">\n",
       "      <th></th>\n",
       "      <th>apple</th>\n",
       "    </tr>\n",
       "    <tr>\n",
       "      <th>Date</th>\n",
       "      <th></th>\n",
       "    </tr>\n",
       "  </thead>\n",
       "  <tbody>\n",
       "    <tr>\n",
       "      <th>25 October 2021</th>\n",
       "      <td>148.423386</td>\n",
       "    </tr>\n",
       "    <tr>\n",
       "      <th>26 October 2021</th>\n",
       "      <td>149.102402</td>\n",
       "    </tr>\n",
       "    <tr>\n",
       "      <th>27 October 2021</th>\n",
       "      <td>148.633087</td>\n",
       "    </tr>\n",
       "    <tr>\n",
       "      <th>28 October 2021</th>\n",
       "      <td>152.347656</td>\n",
       "    </tr>\n",
       "    <tr>\n",
       "      <th>29 October 2021</th>\n",
       "      <td>149.581696</td>\n",
       "    </tr>\n",
       "  </tbody>\n",
       "</table>\n",
       "</div>"
      ],
      "text/plain": [
       "                      apple\n",
       "Date                       \n",
       "25 October 2021  148.423386\n",
       "26 October 2021  149.102402\n",
       "27 October 2021  148.633087\n",
       "28 October 2021  152.347656\n",
       "29 October 2021  149.581696"
      ]
     },
     "execution_count": 31,
     "metadata": {},
     "output_type": "execute_result"
    }
   ],
   "source": [
    "hist.head()"
   ]
  },
  {
   "cell_type": "code",
   "execution_count": 32,
   "metadata": {},
   "outputs": [
    {
     "data": {
      "text/html": [
       "<div>\n",
       "<style scoped>\n",
       "    .dataframe tbody tr th:only-of-type {\n",
       "        vertical-align: middle;\n",
       "    }\n",
       "\n",
       "    .dataframe tbody tr th {\n",
       "        vertical-align: top;\n",
       "    }\n",
       "\n",
       "    .dataframe thead th {\n",
       "        text-align: right;\n",
       "    }\n",
       "</style>\n",
       "<table border=\"1\" class=\"dataframe\">\n",
       "  <thead>\n",
       "    <tr style=\"text-align: right;\">\n",
       "      <th>Date</th>\n",
       "      <th>25 October 2021</th>\n",
       "      <th>26 October 2021</th>\n",
       "      <th>27 October 2021</th>\n",
       "      <th>28 October 2021</th>\n",
       "      <th>29 October 2021</th>\n",
       "      <th>01 November 2021</th>\n",
       "      <th>02 November 2021</th>\n",
       "      <th>03 November 2021</th>\n",
       "      <th>04 November 2021</th>\n",
       "      <th>05 November 2021</th>\n",
       "      <th>08 November 2021</th>\n",
       "      <th>09 November 2021</th>\n",
       "      <th>10 November 2021</th>\n",
       "      <th>11 November 2021</th>\n",
       "      <th>12 November 2021</th>\n",
       "      <th>15 November 2021</th>\n",
       "      <th>16 November 2021</th>\n",
       "      <th>17 November 2021</th>\n",
       "      <th>18 November 2021</th>\n",
       "      <th>19 November 2021</th>\n",
       "    </tr>\n",
       "  </thead>\n",
       "  <tbody>\n",
       "    <tr>\n",
       "      <th>apple</th>\n",
       "      <td>148.423386</td>\n",
       "      <td>149.102402</td>\n",
       "      <td>148.633087</td>\n",
       "      <td>152.347656</td>\n",
       "      <td>149.581696</td>\n",
       "      <td>148.74292</td>\n",
       "      <td>149.801376</td>\n",
       "      <td>151.269241</td>\n",
       "      <td>150.740005</td>\n",
       "      <td>151.279999</td>\n",
       "      <td>150.440002</td>\n",
       "      <td>150.809998</td>\n",
       "      <td>147.919998</td>\n",
       "      <td>147.869995</td>\n",
       "      <td>149.990005</td>\n",
       "      <td>150.0</td>\n",
       "      <td>151.0</td>\n",
       "      <td>153.490005</td>\n",
       "      <td>157.869995</td>\n",
       "      <td>160.550003</td>\n",
       "    </tr>\n",
       "  </tbody>\n",
       "</table>\n",
       "</div>"
      ],
      "text/plain": [
       "Date   25 October 2021  26 October 2021  27 October 2021  28 October 2021  \\\n",
       "apple       148.423386       149.102402       148.633087       152.347656   \n",
       "\n",
       "Date   29 October 2021  01 November 2021  02 November 2021  03 November 2021  \\\n",
       "apple       149.581696         148.74292        149.801376        151.269241   \n",
       "\n",
       "Date   04 November 2021  05 November 2021  08 November 2021  09 November 2021  \\\n",
       "apple        150.740005        151.279999        150.440002        150.809998   \n",
       "\n",
       "Date   10 November 2021  11 November 2021  12 November 2021  15 November 2021  \\\n",
       "apple        147.919998        147.869995        149.990005             150.0   \n",
       "\n",
       "Date   16 November 2021  17 November 2021  18 November 2021  19 November 2021  \n",
       "apple             151.0        153.490005        157.869995        160.550003  "
      ]
     },
     "execution_count": 32,
     "metadata": {},
     "output_type": "execute_result"
    }
   ],
   "source": [
    "hist = hist.T\n",
    "hist"
   ]
  },
  {
   "cell_type": "code",
   "execution_count": 33,
   "metadata": {},
   "outputs": [],
   "source": [
    "hist.index.name = 'Name'"
   ]
  },
  {
   "cell_type": "code",
   "execution_count": 34,
   "metadata": {},
   "outputs": [
    {
     "data": {
      "text/html": [
       "<div>\n",
       "<style scoped>\n",
       "    .dataframe tbody tr th:only-of-type {\n",
       "        vertical-align: middle;\n",
       "    }\n",
       "\n",
       "    .dataframe tbody tr th {\n",
       "        vertical-align: top;\n",
       "    }\n",
       "\n",
       "    .dataframe thead th {\n",
       "        text-align: right;\n",
       "    }\n",
       "</style>\n",
       "<table border=\"1\" class=\"dataframe\">\n",
       "  <thead>\n",
       "    <tr style=\"text-align: right;\">\n",
       "      <th>Date</th>\n",
       "      <th>25 October 2021</th>\n",
       "      <th>26 October 2021</th>\n",
       "      <th>27 October 2021</th>\n",
       "      <th>28 October 2021</th>\n",
       "      <th>29 October 2021</th>\n",
       "      <th>01 November 2021</th>\n",
       "      <th>02 November 2021</th>\n",
       "      <th>03 November 2021</th>\n",
       "      <th>04 November 2021</th>\n",
       "      <th>05 November 2021</th>\n",
       "      <th>08 November 2021</th>\n",
       "      <th>09 November 2021</th>\n",
       "      <th>10 November 2021</th>\n",
       "      <th>11 November 2021</th>\n",
       "      <th>12 November 2021</th>\n",
       "      <th>15 November 2021</th>\n",
       "      <th>16 November 2021</th>\n",
       "      <th>17 November 2021</th>\n",
       "      <th>18 November 2021</th>\n",
       "      <th>19 November 2021</th>\n",
       "    </tr>\n",
       "    <tr>\n",
       "      <th>Name</th>\n",
       "      <th></th>\n",
       "      <th></th>\n",
       "      <th></th>\n",
       "      <th></th>\n",
       "      <th></th>\n",
       "      <th></th>\n",
       "      <th></th>\n",
       "      <th></th>\n",
       "      <th></th>\n",
       "      <th></th>\n",
       "      <th></th>\n",
       "      <th></th>\n",
       "      <th></th>\n",
       "      <th></th>\n",
       "      <th></th>\n",
       "      <th></th>\n",
       "      <th></th>\n",
       "      <th></th>\n",
       "      <th></th>\n",
       "      <th></th>\n",
       "    </tr>\n",
       "  </thead>\n",
       "  <tbody>\n",
       "    <tr>\n",
       "      <th>apple</th>\n",
       "      <td>148.423386</td>\n",
       "      <td>149.102402</td>\n",
       "      <td>148.633087</td>\n",
       "      <td>152.347656</td>\n",
       "      <td>149.581696</td>\n",
       "      <td>148.74292</td>\n",
       "      <td>149.801376</td>\n",
       "      <td>151.269241</td>\n",
       "      <td>150.740005</td>\n",
       "      <td>151.279999</td>\n",
       "      <td>150.440002</td>\n",
       "      <td>150.809998</td>\n",
       "      <td>147.919998</td>\n",
       "      <td>147.869995</td>\n",
       "      <td>149.990005</td>\n",
       "      <td>150.0</td>\n",
       "      <td>151.0</td>\n",
       "      <td>153.490005</td>\n",
       "      <td>157.869995</td>\n",
       "      <td>160.550003</td>\n",
       "    </tr>\n",
       "  </tbody>\n",
       "</table>\n",
       "</div>"
      ],
      "text/plain": [
       "Date   25 October 2021  26 October 2021  27 October 2021  28 October 2021  \\\n",
       "Name                                                                        \n",
       "apple       148.423386       149.102402       148.633087       152.347656   \n",
       "\n",
       "Date   29 October 2021  01 November 2021  02 November 2021  03 November 2021  \\\n",
       "Name                                                                           \n",
       "apple       149.581696         148.74292        149.801376        151.269241   \n",
       "\n",
       "Date   04 November 2021  05 November 2021  08 November 2021  09 November 2021  \\\n",
       "Name                                                                            \n",
       "apple        150.740005        151.279999        150.440002        150.809998   \n",
       "\n",
       "Date   10 November 2021  11 November 2021  12 November 2021  15 November 2021  \\\n",
       "Name                                                                            \n",
       "apple        147.919998        147.869995        149.990005             150.0   \n",
       "\n",
       "Date   16 November 2021  17 November 2021  18 November 2021  19 November 2021  \n",
       "Name                                                                           \n",
       "apple             151.0        153.490005        157.869995        160.550003  "
      ]
     },
     "execution_count": 34,
     "metadata": {},
     "output_type": "execute_result"
    }
   ],
   "source": [
    "hist"
   ]
  },
  {
   "cell_type": "code",
   "execution_count": null,
   "metadata": {},
   "outputs": [],
   "source": []
  },
  {
   "cell_type": "code",
   "execution_count": null,
   "metadata": {},
   "outputs": [],
   "source": []
  },
  {
   "cell_type": "code",
   "execution_count": null,
   "metadata": {},
   "outputs": [],
   "source": []
  },
  {
   "cell_type": "code",
   "execution_count": null,
   "metadata": {},
   "outputs": [],
   "source": []
  },
  {
   "cell_type": "code",
   "execution_count": null,
   "metadata": {},
   "outputs": [],
   "source": []
  },
  {
   "cell_type": "code",
   "execution_count": null,
   "metadata": {},
   "outputs": [],
   "source": []
  },
  {
   "cell_type": "code",
   "execution_count": null,
   "metadata": {},
   "outputs": [],
   "source": []
  },
  {
   "cell_type": "code",
   "execution_count": null,
   "metadata": {},
   "outputs": [],
   "source": []
  },
  {
   "cell_type": "code",
   "execution_count": null,
   "metadata": {},
   "outputs": [],
   "source": []
  },
  {
   "cell_type": "code",
   "execution_count": null,
   "metadata": {},
   "outputs": [],
   "source": []
  }
 ],
 "metadata": {
  "kernelspec": {
   "display_name": "Python 3",
   "language": "python",
   "name": "python3"
  },
  "language_info": {
   "codemirror_mode": {
    "name": "ipython",
    "version": 3
   },
   "file_extension": ".py",
   "mimetype": "text/x-python",
   "name": "python",
   "nbconvert_exporter": "python",
   "pygments_lexer": "ipython3",
   "version": "3.7.7"
  }
 },
 "nbformat": 4,
 "nbformat_minor": 4
}
